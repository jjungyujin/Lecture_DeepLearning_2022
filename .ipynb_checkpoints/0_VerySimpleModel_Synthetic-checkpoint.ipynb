{
 "cells": [
  {
   "cell_type": "code",
   "execution_count": 1,
   "metadata": {},
   "outputs": [],
   "source": [
    "import numpy as np\n",
    "import pandas as pd"
   ]
  },
  {
   "cell_type": "code",
   "execution_count": 2,
   "metadata": {},
   "outputs": [],
   "source": [
    "def synthetic_data(w,b,num):\n",
    "    X=np.random.normal(0,1,(num,len(w)))\n",
    "    y=np.dot(X,w)+b\n",
    "    y += np.random.normal(0,1,y.shape)\n",
    "    return X,y.reshape(-1,1)\n",
    "\n",
    "true_w = [-3.4]\n",
    "true_b = 4.2\n",
    "X,y = synthetic_data(true_w, true_b, 1000)\n",
    "\n",
    "pd.DataFrame(np.hstack((X,y)),columns=['X','y']).to_csv('simple.csv',index=False)\n"
   ]
  },
  {
   "cell_type": "markdown",
   "metadata": {},
   "source": [
    "## 심플 데이터 불러오기"
   ]
  },
  {
   "cell_type": "code",
   "execution_count": 3,
   "metadata": {},
   "outputs": [],
   "source": [
    "df=pd.read_csv('simple.csv')"
   ]
  },
  {
   "cell_type": "markdown",
   "metadata": {},
   "source": [
    "## 심플 데이터 확인하기"
   ]
  },
  {
   "cell_type": "code",
   "execution_count": 4,
   "metadata": {},
   "outputs": [
    {
     "data": {
      "text/plain": [
       "<matplotlib.collections.PathCollection at 0x7f4425df35c0>"
      ]
     },
     "execution_count": 4,
     "metadata": {},
     "output_type": "execute_result"
    },
    {
     "data": {
      "image/png": "[encoded data removed]",
      "text/plain": [
       "<Figure size 432x288 with 1 Axes>"
      ]
     },
     "metadata": {
      "needs_background": "light"
     },
     "output_type": "display_data"
    }
   ],
   "source": [
    "import matplotlib.pyplot as plt\n",
    "plt.scatter(df['X'],df['y'])"
   ]
  },
  {
   "cell_type": "code",
   "execution_count": 5,
   "metadata": {},
   "outputs": [
    {
     "name": "stdout",
     "output_type": "stream",
     "text": [
      "2.3.0\n"
     ]
    }
   ],
   "source": [
    "# tensorflow와 tf.keras를 임포트합니다\n",
    "import tensorflow as tf\n",
    "from tensorflow import keras\n",
    "from keras import layers\n",
    "\n",
    "# 헬퍼(helper) 라이브러리를 임포트합니다\n",
    "import numpy as np\n",
    "import matplotlib.pyplot as plt\n",
    "\n",
    "print(tf.__version__)"
   ]
  },
  {
   "cell_type": "markdown",
   "metadata": {},
   "source": [
    "## 딥러닝 모델 만들기"
   ]
  },
  {
   "cell_type": "code",
   "execution_count": 13,
   "metadata": {},
   "outputs": [],
   "source": [
    "# layer 설정\n",
    "model=keras.Sequential([\n",
    "    layers.Dense(1, input_shape=[1])\n",
    "])\n",
    "# 최적화 알고리즘 설정\n",
    "optimizer = tf.keras.optimizers.RMSprop(0.01)\n",
    "model.compile(optimizer=optimizer,loss='mse')"
   ]
  },
  {
   "cell_type": "code",
   "execution_count": 14,
   "metadata": {},
   "outputs": [
    {
     "name": "stdout",
     "output_type": "stream",
     "text": [
      "Model: \"sequential_1\"\n",
      "_________________________________________________________________\n",
      "Layer (type)                 Output Shape              Param #   \n",
      "=================================================================\n",
      "dense_1 (Dense)              (None, 1)                 2         \n",
      "=================================================================\n",
      "Total params: 2\n",
      "Trainable params: 2\n",
      "Non-trainable params: 0\n",
      "_________________________________________________________________\n"
     ]
    }
   ],
   "source": [
    "model.summary()"
   ]
  },
  {
   "cell_type": "markdown",
   "metadata": {},
   "source": [
    "## 모델 학습"
   ]
  },
  {
   "cell_type": "code",
   "execution_count": 15,
   "metadata": {},
   "outputs": [
    {
     "name": "stdout",
     "output_type": "stream",
     "text": [
      "Epoch 1/50\n",
      "25/25 [==============================] - 0s 8ms/step - loss: 30.8209 - val_loss: 31.3318\n",
      "Epoch 2/50\n",
      "25/25 [==============================] - 0s 4ms/step - loss: 26.9256 - val_loss: 27.5399\n",
      "Epoch 3/50\n",
      "25/25 [==============================] - 0s 3ms/step - loss: 23.6289 - val_loss: 24.0019\n",
      "Epoch 4/50\n",
      "25/25 [==============================] - 0s 3ms/step - loss: 20.5016 - val_loss: 20.6593\n",
      "Epoch 5/50\n",
      "25/25 [==============================] - 0s 4ms/step - loss: 17.6355 - val_loss: 17.6582\n",
      "Epoch 6/50\n",
      "25/25 [==============================] - 0s 4ms/step - loss: 15.0754 - val_loss: 14.9182\n",
      "Epoch 7/50\n",
      "25/25 [==============================] - 0s 4ms/step - loss: 12.6265 - val_loss: 12.3348\n",
      "Epoch 8/50\n",
      "25/25 [==============================] - 0s 4ms/step - loss: 10.4906 - val_loss: 10.1354\n",
      "Epoch 9/50\n",
      "25/25 [==============================] - 0s 4ms/step - loss: 8.5586 - val_loss: 8.1117\n",
      "Epoch 10/50\n",
      "25/25 [==============================] - 0s 4ms/step - loss: 6.8742 - val_loss: 6.3963\n",
      "Epoch 11/50\n",
      "25/25 [==============================] - 0s 4ms/step - loss: 5.4034 - val_loss: 4.8944\n",
      "Epoch 12/50\n",
      "25/25 [==============================] - 0s 4ms/step - loss: 4.1355 - val_loss: 3.6403\n",
      "Epoch 13/50\n",
      "25/25 [==============================] - 0s 5ms/step - loss: 3.1035 - val_loss: 2.6322\n",
      "Epoch 14/50\n",
      "25/25 [==============================] - 0s 4ms/step - loss: 2.2743 - val_loss: 1.8583\n",
      "Epoch 15/50\n",
      "25/25 [==============================] - 0s 4ms/step - loss: 1.6698 - val_loss: 1.3350\n",
      "Epoch 16/50\n",
      "25/25 [==============================] - 0s 4ms/step - loss: 1.2693 - val_loss: 1.0180\n",
      "Epoch 17/50\n",
      "25/25 [==============================] - 0s 4ms/step - loss: 1.0476 - val_loss: 0.8832\n",
      "Epoch 18/50\n",
      "25/25 [==============================] - 0s 3ms/step - loss: 0.9597 - val_loss: 0.8577\n",
      "Epoch 19/50\n",
      "25/25 [==============================] - 0s 4ms/step - loss: 0.9386 - val_loss: 0.8642\n",
      "Epoch 20/50\n",
      "25/25 [==============================] - 0s 4ms/step - loss: 0.9359 - val_loss: 0.8640\n",
      "Epoch 21/50\n",
      "25/25 [==============================] - 0s 4ms/step - loss: 0.9354 - val_loss: 0.8658\n",
      "Epoch 22/50\n",
      "25/25 [==============================] - 0s 4ms/step - loss: 0.9359 - val_loss: 0.8682\n",
      "Epoch 23/50\n",
      "25/25 [==============================] - 0s 3ms/step - loss: 0.9360 - val_loss: 0.8704\n",
      "Epoch 24/50\n",
      "25/25 [==============================] - 0s 4ms/step - loss: 0.9355 - val_loss: 0.8663\n",
      "Epoch 25/50\n",
      "25/25 [==============================] - 0s 3ms/step - loss: 0.9361 - val_loss: 0.8706\n",
      "Epoch 26/50\n",
      "25/25 [==============================] - 0s 3ms/step - loss: 0.9346 - val_loss: 0.8635\n",
      "Epoch 27/50\n",
      "25/25 [==============================] - 0s 3ms/step - loss: 0.9356 - val_loss: 0.8707\n",
      "Epoch 28/50\n",
      "25/25 [==============================] - 0s 6ms/step - loss: 0.9365 - val_loss: 0.8681\n",
      "Epoch 29/50\n",
      "25/25 [==============================] - 0s 4ms/step - loss: 0.9354 - val_loss: 0.8662\n",
      "Epoch 30/50\n",
      "25/25 [==============================] - 0s 4ms/step - loss: 0.9355 - val_loss: 0.8631\n",
      "Epoch 31/50\n",
      "25/25 [==============================] - 0s 3ms/step - loss: 0.9361 - val_loss: 0.8634\n",
      "Epoch 32/50\n",
      "25/25 [==============================] - 0s 4ms/step - loss: 0.9354 - val_loss: 0.8608\n",
      "Epoch 33/50\n",
      "25/25 [==============================] - 0s 4ms/step - loss: 0.9346 - val_loss: 0.8746\n",
      "Epoch 34/50\n",
      "25/25 [==============================] - 0s 4ms/step - loss: 0.9359 - val_loss: 0.8699\n",
      "Epoch 35/50\n",
      "25/25 [==============================] - 0s 4ms/step - loss: 0.9367 - val_loss: 0.8668\n",
      "Epoch 36/50\n",
      "25/25 [==============================] - 0s 4ms/step - loss: 0.9366 - val_loss: 0.8667\n",
      "Epoch 37/50\n",
      "25/25 [==============================] - 0s 3ms/step - loss: 0.9348 - val_loss: 0.8639\n",
      "Epoch 38/50\n",
      "25/25 [==============================] - 0s 3ms/step - loss: 0.9361 - val_loss: 0.8628\n",
      "Epoch 39/50\n",
      "25/25 [==============================] - 0s 4ms/step - loss: 0.9355 - val_loss: 0.8648\n",
      "Epoch 40/50\n",
      "25/25 [==============================] - 0s 5ms/step - loss: 0.9350 - val_loss: 0.8631\n",
      "Epoch 41/50\n",
      "25/25 [==============================] - 0s 4ms/step - loss: 0.9364 - val_loss: 0.8657\n",
      "Epoch 42/50\n",
      "25/25 [==============================] - 0s 4ms/step - loss: 0.9358 - val_loss: 0.8690\n",
      "Epoch 43/50\n",
      "25/25 [==============================] - 0s 4ms/step - loss: 0.9360 - val_loss: 0.8676\n",
      "Epoch 44/50\n",
      "25/25 [==============================] - 0s 4ms/step - loss: 0.9357 - val_loss: 0.8709\n",
      "Epoch 45/50\n",
      "25/25 [==============================] - 0s 4ms/step - loss: 0.9353 - val_loss: 0.8645\n",
      "Epoch 46/50\n",
      "25/25 [==============================] - 0s 4ms/step - loss: 0.9361 - val_loss: 0.8637\n",
      "Epoch 47/50\n",
      "25/25 [==============================] - 0s 4ms/step - loss: 0.9359 - val_loss: 0.8631\n",
      "Epoch 48/50\n",
      "25/25 [==============================] - 0s 3ms/step - loss: 0.9361 - val_loss: 0.8675\n",
      "Epoch 49/50\n",
      "25/25 [==============================] - 0s 3ms/step - loss: 0.9355 - val_loss: 0.8678\n",
      "Epoch 50/50\n",
      "25/25 [==============================] - 0s 3ms/step - loss: 0.9366 - val_loss: 0.8676\n"
     ]
    }
   ],
   "source": [
    "X=np.array(df['X'])\n",
    "y=np.array(df['y'])\n",
    "history=model.fit(X,y,epochs=50, validation_split=0.2)"
   ]
  },
  {
   "cell_type": "markdown",
   "metadata": {},
   "source": [
    "## 학습 히스토리 보기"
   ]
  },
  {
   "cell_type": "code",
   "execution_count": 16,
   "metadata": {},
   "outputs": [
    {
     "data": {
      "text/plain": [
       "[<matplotlib.lines.Line2D at 0x7f43cc44f390>]"
      ]
     },
     "execution_count": 16,
     "metadata": {},
     "output_type": "execute_result"
    },
    {
     "data": {
      "image/png": "[encoded data removed]",
      "text/plain": [
       "<Figure size 432x288 with 1 Axes>"
      ]
     },
     "metadata": {
      "needs_background": "light"
     },
     "output_type": "display_data"
    }
   ],
   "source": [
    "hist=history.history\n",
    "plt.plot(hist['loss'])\n",
    "plt.plot(hist['val_loss'])\n"
   ]
  },
  {
   "cell_type": "code",
   "execution_count": 17,
   "metadata": {},
   "outputs": [
    {
     "data": {
      "text/plain": [
       "[array([[-3.4058077]], dtype=float32), array([4.225313], dtype=float32)]"
      ]
     },
     "execution_count": 17,
     "metadata": {},
     "output_type": "execute_result"
    }
   ],
   "source": [
    "model.get_weights()"
   ]
  },
  {
   "cell_type": "markdown",
   "metadata": {},
   "source": [
    "## 모델이 어떻게 예측했나"
   ]
  },
  {
   "cell_type": "code",
   "execution_count": 18,
   "metadata": {},
   "outputs": [
    {
     "data": {
      "text/plain": [
       "<matplotlib.collections.PathCollection at 0x7f43cc2f7e48>"
      ]
     },
     "execution_count": 18,
     "metadata": {},
     "output_type": "execute_result"
    },
    {
     "data": {
      "image/png": "[encoded data removed]",
      "text/plain": [
       "<Figure size 432x288 with 1 Axes>"
      ]
     },
     "metadata": {
      "needs_background": "light"
     },
     "output_type": "display_data"
    }
   ],
   "source": [
    "pred=model.predict(df['X'])\n",
    "plt.scatter(df['X'],df['y'])\n",
    "plt.scatter(df['X'],pred)\n"
   ]
  }
 ],
 "metadata": {
  "kernelspec": {
   "display_name": "Python 3",
   "language": "python",
   "name": "python3"
  },
  "language_info": {
   "codemirror_mode": {
    "name": "ipython",
    "version": 3
   },
   "file_extension": ".py",
   "mimetype": "text/x-python",
   "name": "python",
   "nbconvert_exporter": "python",
   "pygments_lexer": "ipython3",
   "version": "3.6.9"
  }
 },
 "nbformat": 4,
 "nbformat_minor": 4
}
