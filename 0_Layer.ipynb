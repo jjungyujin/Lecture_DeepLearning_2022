{
  "cells": [
    {
      "cell_type": "code",
      "execution_count": 1,
      "metadata": {
        "colab": {
          "base_uri": "https://localhost:8080/"
        },
        "id": "qwrm7HaCJiYq",
        "outputId": "ad5ea462-b670-4f28-98cf-2b3504343dd5"
      },
      "outputs": [
        {
          "output_type": "stream",
          "name": "stdout",
          "text": [
            "2.8.2\n"
          ]
        }
      ],
      "source": [
        "# tensorflow와 tf.keras를 임포트합니다\n",
        "import tensorflow as tf\n",
        "from tensorflow import keras\n",
        "from keras import layers\n",
        "\n",
        "# 헬퍼(helper) 라이브러리를 임포트합니다\n",
        "import numpy as np\n",
        "import matplotlib.pyplot as plt\n",
        "\n",
        "print(tf.__version__)"
      ]
    },
    {
      "cell_type": "markdown",
      "metadata": {
        "id": "9eN3FsCmJiYu"
      },
      "source": [
        "## 퍼셉트론"
      ]
    },
    {
      "cell_type": "code",
      "execution_count": 2,
      "metadata": {
        "id": "zlB3BJnKJiYv"
      },
      "outputs": [],
      "source": [
        "X=np.random.rand(1,5)"
      ]
    },
    {
      "cell_type": "code",
      "execution_count": 3,
      "metadata": {
        "id": "ii_ndw3CJiYw"
      },
      "outputs": [],
      "source": [
        "# 퍼셉트론의 생성\n",
        "l=layers.Dense(1,input_shape=[5])"
      ]
    },
    {
      "cell_type": "code",
      "execution_count": 4,
      "metadata": {
        "colab": {
          "base_uri": "https://localhost:8080/"
        },
        "id": "cuEkPbjCJiYw",
        "outputId": "e307848c-b9f4-4da0-a708-47832cddd943"
      },
      "outputs": [
        {
          "output_type": "execute_result",
          "data": {
            "text/plain": [
              "<tf.Tensor: shape=(1, 1), dtype=float32, numpy=array([[-1.0039166]], dtype=float32)>"
            ]
          },
          "metadata": {},
          "execution_count": 4
        }
      ],
      "source": [
        "# 퍼셉트론 처리 예시\n",
        "# 임의의 weight가 할당된 상태\n",
        "l(X)"
      ]
    },
    {
      "cell_type": "markdown",
      "metadata": {
        "id": "xUs9kh2GJiYx"
      },
      "source": [
        "## 퍼셉트론 (출력층이 여러개)"
      ]
    },
    {
      "cell_type": "code",
      "execution_count": 5,
      "metadata": {
        "colab": {
          "base_uri": "https://localhost:8080/"
        },
        "id": "2y0ADSdlJiYx",
        "outputId": "6813a374-1e8b-42f5-e4f9-442bc64677ad"
      },
      "outputs": [
        {
          "output_type": "execute_result",
          "data": {
            "text/plain": [
              "<tf.Tensor: shape=(1, 3), dtype=float32, numpy=array([[ 0.27207616, -0.5839657 ,  0.6307751 ]], dtype=float32)>"
            ]
          },
          "metadata": {},
          "execution_count": 5
        }
      ],
      "source": [
        "l=layers.Dense(3,input_shape=[5])\n",
        "l(X)"
      ]
    },
    {
      "cell_type": "markdown",
      "metadata": {
        "id": "ae5eed7gJiYy"
      },
      "source": [
        "## 퍼셉트론 (활성화 함수)"
      ]
    },
    {
      "cell_type": "code",
      "execution_count": 6,
      "metadata": {
        "colab": {
          "base_uri": "https://localhost:8080/"
        },
        "id": "LHBOfK1rJiYy",
        "outputId": "b3d13757-5c5c-4ea0-bf1d-703c5348d10b"
      },
      "outputs": [
        {
          "output_type": "execute_result",
          "data": {
            "text/plain": [
              "<tf.Tensor: shape=(1, 3), dtype=float32, numpy=array([[0.452923  , 0.6056739 , 0.51846576]], dtype=float32)>"
            ]
          },
          "metadata": {},
          "execution_count": 6
        }
      ],
      "source": [
        "l=layers.Dense(3,input_shape=[5],activation='sigmoid')\n",
        "# l=layers.Dense(3,input_shape=[ 5],activation='tanh')\n",
        "# l=layers.Dense(3,input_shape=[5],activation='relu')\n",
        "l(X)"
      ]
    },
    {
      "cell_type": "markdown",
      "metadata": {
        "id": "atQXog7DJiYz"
      },
      "source": [
        "## 한번에 여러 raw 처리"
      ]
    },
    {
      "cell_type": "code",
      "execution_count": 7,
      "metadata": {
        "colab": {
          "base_uri": "https://localhost:8080/"
        },
        "id": "rkzI7RxmJiYz",
        "outputId": "6c075a1e-5420-41b1-973f-943403a6fd44"
      },
      "outputs": [
        {
          "output_type": "execute_result",
          "data": {
            "text/plain": [
              "<tf.Tensor: shape=(10, 3), dtype=float32, numpy=\n",
              "array([[0.4593271 , 0.5896457 , 0.45497906],\n",
              "       [0.49431756, 0.57953066, 0.54757583],\n",
              "       [0.45532125, 0.6554992 , 0.42361438],\n",
              "       [0.31462115, 0.6944728 , 0.3994269 ],\n",
              "       [0.3944434 , 0.5763289 , 0.57876235],\n",
              "       [0.32525906, 0.66332483, 0.5619228 ],\n",
              "       [0.507813  , 0.63353753, 0.41997024],\n",
              "       [0.45481247, 0.6689341 , 0.3418185 ],\n",
              "       [0.38439852, 0.6484475 , 0.49890193],\n",
              "       [0.37452745, 0.616537  , 0.52580756]], dtype=float32)>"
            ]
          },
          "metadata": {},
          "execution_count": 7
        }
      ],
      "source": [
        "X=np.random.rand(10,5)\n",
        "l(X)"
      ]
    },
    {
      "cell_type": "markdown",
      "metadata": {
        "id": "wW5j2PVTJiYz"
      },
      "source": [
        "## Deep Neural Network 만들기"
      ]
    },
    {
      "cell_type": "markdown",
      "metadata": {
        "id": "quU-9FT2JiY0"
      },
      "source": [
        "### keras.Sequential를 사용해 모델 만들기"
      ]
    },
    {
      "cell_type": "code",
      "execution_count": 8,
      "metadata": {
        "id": "vNVVJ30KJiY0"
      },
      "outputs": [],
      "source": [
        "import numpy as np\n",
        "X=np.random.rand(1,5)"
      ]
    },
    {
      "cell_type": "code",
      "execution_count": 11,
      "metadata": {
        "id": "39SQlGSyJiY0"
      },
      "outputs": [],
      "source": [
        "model = keras.Sequential([\n",
        "    layers.Dense(3, input_shape=[5], activation='relu'),\n",
        "    #layers.Dense(1, activation='relu')\n",
        "])"
      ]
    },
    {
      "cell_type": "code",
      "execution_count": 12,
      "metadata": {
        "colab": {
          "base_uri": "https://localhost:8080/"
        },
        "id": "OHg_rI4eJiY0",
        "outputId": "16228ebb-1d85-44a7-94b4-fae06521cbe1"
      },
      "outputs": [
        {
          "output_type": "stream",
          "name": "stdout",
          "text": [
            "Model: \"sequential_1\"\n",
            "_________________________________________________________________\n",
            " Layer (type)                Output Shape              Param #   \n",
            "=================================================================\n",
            " dense_4 (Dense)             (None, 3)                 18        \n",
            "                                                                 \n",
            "=================================================================\n",
            "Total params: 18\n",
            "Trainable params: 18\n",
            "Non-trainable params: 0\n",
            "_________________________________________________________________\n"
          ]
        }
      ],
      "source": [
        "model.summary()"
      ]
    },
    {
      "cell_type": "code",
      "execution_count": 13,
      "metadata": {
        "colab": {
          "base_uri": "https://localhost:8080/"
        },
        "id": "hPydah66JiY1",
        "outputId": "31a39f69-9054-4a26-b4ff-605e6e9230f5"
      },
      "outputs": [
        {
          "output_type": "execute_result",
          "data": {
            "text/plain": [
              "<tf.Tensor: shape=(1, 3), dtype=float32, numpy=array([[0., 0., 0.]], dtype=float32)>"
            ]
          },
          "metadata": {},
          "execution_count": 13
        }
      ],
      "source": [
        "model(X)"
      ]
    },
    {
      "cell_type": "markdown",
      "metadata": {
        "id": "5M3Kz4Z6JiY1"
      },
      "source": [
        "### 모델에 층 추가하기"
      ]
    },
    {
      "cell_type": "code",
      "execution_count": 14,
      "metadata": {
        "id": "iB_9vKQMJiY1"
      },
      "outputs": [],
      "source": [
        "X=np.random.rand(1,10)"
      ]
    },
    {
      "cell_type": "code",
      "execution_count": 16,
      "metadata": {
        "id": "AwsLglujJiY1"
      },
      "outputs": [],
      "source": [
        "model = keras.Sequential([\n",
        "    layers.Dense(5, input_shape=[10], activation='relu'),\n",
        "#     layers.Dense(3, input_shape=[5], activation='relu')\n",
        "    layers.Dense(3, activation='sigmoid')\n",
        "])\n",
        "model.compile()"
      ]
    },
    {
      "cell_type": "code",
      "execution_count": 17,
      "metadata": {
        "colab": {
          "base_uri": "https://localhost:8080/"
        },
        "id": "4Msw1sfGJiY1",
        "outputId": "0db6dfa9-36a2-4755-90a2-edf6688fb06d"
      },
      "outputs": [
        {
          "output_type": "stream",
          "name": "stdout",
          "text": [
            "Model: \"sequential_3\"\n",
            "_________________________________________________________________\n",
            " Layer (type)                Output Shape              Param #   \n",
            "=================================================================\n",
            " dense_7 (Dense)             (None, 5)                 55        \n",
            "                                                                 \n",
            " dense_8 (Dense)             (None, 3)                 18        \n",
            "                                                                 \n",
            "=================================================================\n",
            "Total params: 73\n",
            "Trainable params: 73\n",
            "Non-trainable params: 0\n",
            "_________________________________________________________________\n"
          ]
        }
      ],
      "source": [
        "# 패러미터의 갯수가 왜 저렇게 나오는지 생각해 볼것\n",
        "model.summary()"
      ]
    },
    {
      "cell_type": "code",
      "execution_count": 18,
      "metadata": {
        "colab": {
          "base_uri": "https://localhost:8080/"
        },
        "id": "s1O2AUlBJiY2",
        "outputId": "1ec7971c-5438-4752-f01a-46a157072edb"
      },
      "outputs": [
        {
          "output_type": "execute_result",
          "data": {
            "text/plain": [
              "<tf.Tensor: shape=(1, 3), dtype=float32, numpy=array([[0.57556623, 0.71308035, 0.62933326]], dtype=float32)>"
            ]
          },
          "metadata": {},
          "execution_count": 18
        }
      ],
      "source": [
        "model(X)"
      ]
    },
    {
      "cell_type": "markdown",
      "metadata": {
        "id": "luoFMBNiJiY2"
      },
      "source": [
        "### 딥뉴럴 네트워크"
      ]
    },
    {
      "cell_type": "code",
      "execution_count": 19,
      "metadata": {
        "id": "c6Xqdp-HJiY2"
      },
      "outputs": [],
      "source": [
        "model = keras.Sequential([\n",
        "    layers.Dense(5, input_shape=[10], activation='relu'),\n",
        "    layers.Dense(10,  activation='relu'), \n",
        "    layers.Dense(10,  activation='relu'), \n",
        "    layers.Dense(1,  activation='relu')\n",
        "])\n",
        "model.compile()"
      ]
    },
    {
      "cell_type": "code",
      "execution_count": 20,
      "metadata": {
        "colab": {
          "base_uri": "https://localhost:8080/"
        },
        "id": "yxxzvsXIJiY2",
        "outputId": "1ce11afc-71e6-44e4-d670-769b70bbd048"
      },
      "outputs": [
        {
          "output_type": "stream",
          "name": "stdout",
          "text": [
            "Model: \"sequential_4\"\n",
            "_________________________________________________________________\n",
            " Layer (type)                Output Shape              Param #   \n",
            "=================================================================\n",
            " dense_9 (Dense)             (None, 5)                 55        \n",
            "                                                                 \n",
            " dense_10 (Dense)            (None, 10)                60        \n",
            "                                                                 \n",
            " dense_11 (Dense)            (None, 10)                110       \n",
            "                                                                 \n",
            " dense_12 (Dense)            (None, 1)                 11        \n",
            "                                                                 \n",
            "=================================================================\n",
            "Total params: 236\n",
            "Trainable params: 236\n",
            "Non-trainable params: 0\n",
            "_________________________________________________________________\n"
          ]
        }
      ],
      "source": [
        "model.summary()"
      ]
    },
    {
      "cell_type": "markdown",
      "metadata": {
        "id": "RNDyuMq3JiY3"
      },
      "source": [
        "## 다양한 layer\n",
        "- Convolution Layer\n",
        "- LSTM Layer\n",
        "- Embedding Layer..\n"
      ]
    }
  ],
  "metadata": {
    "kernelspec": {
      "display_name": "Python 3.8.12 ('dssa')",
      "language": "python",
      "name": "python3"
    },
    "language_info": {
      "codemirror_mode": {
        "name": "ipython",
        "version": 3
      },
      "file_extension": ".py",
      "mimetype": "text/x-python",
      "name": "python",
      "nbconvert_exporter": "python",
      "pygments_lexer": "ipython3",
      "version": "3.8.12"
    },
    "toc": {
      "base_numbering": 1,
      "nav_menu": {},
      "number_sections": false,
      "sideBar": true,
      "skip_h1_title": false,
      "title_cell": "Table of Contents",
      "title_sidebar": "Contents",
      "toc_cell": false,
      "toc_position": {},
      "toc_section_display": true,
      "toc_window_display": false
    },
    "vscode": {
      "interpreter": {
        "hash": "90463e4e3418dfed57313f16f981ee5b830350c1276a61fbb49d7d862581c826"
      }
    },
    "colab": {
      "provenance": [],
      "collapsed_sections": []
    }
  },
  "nbformat": 4,
  "nbformat_minor": 0
}