{
  "cells": [
    {
      "cell_type": "code",
      "execution_count": 1,
      "metadata": {
        "id": "6o_05vXu_2U1"
      },
      "outputs": [],
      "source": [
        "import numpy as np\n",
        "import pandas as pd"
      ]
    },
    {
      "cell_type": "code",
      "execution_count": 2,
      "metadata": {
        "id": "NbVlUwDH_2U4"
      },
      "outputs": [],
      "source": [
        "def synthetic_data(w,b,num):\n",
        "    X=np.random.normal(0,1,(num,len(w)))\n",
        "    y=np.dot(X,w)+b\n",
        "    y += np.random.normal(0,1,y.shape)\n",
        "    return X,y.reshape(-1,1)\n",
        "\n",
        "true_w = [-3.4]\n",
        "true_b = 4.2\n",
        "X,y = synthetic_data(true_w, true_b, 1000)\n",
        "\n",
        "pd.DataFrame(np.hstack((X,y)),columns=['X','y']).to_csv('simple.csv',index=False)\n"
      ]
    },
    {
      "cell_type": "markdown",
      "metadata": {
        "id": "Sdf_0Js9_2U5"
      },
      "source": [
        "## 심플 데이터 불러오기"
      ]
    },
    {
      "cell_type": "code",
      "execution_count": 3,
      "metadata": {
        "id": "iVDxBQf5_2U6"
      },
      "outputs": [],
      "source": [
        "df=pd.read_csv('simple.csv')"
      ]
    },
    {
      "cell_type": "markdown",
      "metadata": {
        "id": "No9cIWcY_2U6"
      },
      "source": [
        "## 심플 데이터 확인하기"
      ]
    },
    {
      "cell_type": "code",
      "execution_count": 4,
      "metadata": {
        "colab": {
          "base_uri": "https://localhost:8080/",
          "height": 282
        },
        "id": "IUtr8zjo_2U7",
        "outputId": "3573d521-56f2-48b8-a9d7-469703e4f4a0"
      },
      "outputs": [
        {
          "output_type": "execute_result",
          "data": {
            "text/plain": [
              "<matplotlib.collections.PathCollection at 0x7f5316bf62d0>"
            ]
          },
          "metadata": {},
          "execution_count": 4
        },
        {
          "output_type": "display_data",
          "data": {
            "text/plain": [
              "<Figure size 432x288 with 1 Axes>"
            ],
            "image/png": "[encoded data removed]"
          },
          "metadata": {
            "needs_background": "light"
          }
        }
      ],
      "source": [
        "import matplotlib.pyplot as plt\n",
        "plt.scatter(df['X'],df['y'])"
      ]
    },
    {
      "cell_type": "code",
      "execution_count": 5,
      "metadata": {
        "colab": {
          "base_uri": "https://localhost:8080/"
        },
        "id": "EnlvTzkG_2U8",
        "outputId": "88fbee79-ecf0-4faa-bc15-1e772a87dd27"
      },
      "outputs": [
        {
          "output_type": "stream",
          "name": "stdout",
          "text": [
            "2.8.2\n"
          ]
        }
      ],
      "source": [
        "# tensorflow와 tf.keras를 임포트합니다\n",
        "import tensorflow as tf\n",
        "from tensorflow import keras\n",
        "from keras import layers\n",
        "\n",
        "# 헬퍼(helper) 라이브러리를 임포트합니다\n",
        "import numpy as np\n",
        "import matplotlib.pyplot as plt\n",
        "\n",
        "print(tf.__version__)"
      ]
    },
    {
      "cell_type": "markdown",
      "metadata": {
        "id": "xWVAkk3b_2U8"
      },
      "source": [
        "## 딥러닝 모델 만들기"
      ]
    },
    {
      "cell_type": "code",
      "execution_count": 6,
      "metadata": {
        "id": "bOiF4m-W_2U9"
      },
      "outputs": [],
      "source": [
        "# layer 설정\n",
        "model=keras.Sequential([\n",
        "    layers.Dense(1, input_shape=[1])\n",
        "])\n",
        "# 최적화 알고리즘 설정\n",
        "optimizer = tf.keras.optimizers.RMSprop(0.01)\n",
        "model.compile(optimizer=optimizer,loss='mse')"
      ]
    },
    {
      "cell_type": "code",
      "execution_count": 7,
      "metadata": {
        "colab": {
          "base_uri": "https://localhost:8080/"
        },
        "id": "u66fjnBk_2U-",
        "outputId": "e331dd39-6a8d-48cd-e895-dc510bef54e7"
      },
      "outputs": [
        {
          "output_type": "stream",
          "name": "stdout",
          "text": [
            "Model: \"sequential\"\n",
            "_________________________________________________________________\n",
            " Layer (type)                Output Shape              Param #   \n",
            "=================================================================\n",
            " dense (Dense)               (None, 1)                 2         \n",
            "                                                                 \n",
            "=================================================================\n",
            "Total params: 2\n",
            "Trainable params: 2\n",
            "Non-trainable params: 0\n",
            "_________________________________________________________________\n"
          ]
        }
      ],
      "source": [
        "model.summary()"
      ]
    },
    {
      "cell_type": "markdown",
      "metadata": {
        "id": "R7gD1OyV_2U-"
      },
      "source": [
        "## 모델 학습"
      ]
    },
    {
      "cell_type": "code",
      "execution_count": 8,
      "metadata": {
        "id": "6LJfPPy__2U-"
      },
      "outputs": [],
      "source": [
        "X=np.array(df['X'])\n",
        "y=np.array(df['y'])"
      ]
    },
    {
      "cell_type": "markdown",
      "metadata": {
        "id": "VJubRA7A_2U_"
      },
      "source": [
        "## 학습 히스토리 보기"
      ]
    },
    {
      "cell_type": "code",
      "execution_count": 9,
      "metadata": {
        "colab": {
          "base_uri": "https://localhost:8080/",
          "height": 1000
        },
        "id": "QbRvMqmK_2U_",
        "outputId": "b2e980e8-848d-4bc7-c198-cd44cd0097ec"
      },
      "outputs": [
        {
          "output_type": "stream",
          "name": "stdout",
          "text": [
            "Epoch 1/50\n",
            "25/25 [==============================] - 1s 7ms/step - loss: 32.3515 - val_loss: 30.3178\n",
            "Epoch 2/50\n",
            "25/25 [==============================] - 0s 3ms/step - loss: 28.4824 - val_loss: 26.8341\n",
            "Epoch 3/50\n",
            "25/25 [==============================] - 0s 3ms/step - loss: 25.2101 - val_loss: 23.6177\n",
            "Epoch 4/50\n",
            "25/25 [==============================] - 0s 2ms/step - loss: 22.1339 - val_loss: 20.6128\n",
            "Epoch 5/50\n",
            "25/25 [==============================] - 0s 2ms/step - loss: 19.2780 - val_loss: 17.8458\n",
            "Epoch 6/50\n",
            "25/25 [==============================] - 0s 3ms/step - loss: 16.6922 - val_loss: 15.3443\n",
            "Epoch 7/50\n",
            "25/25 [==============================] - 0s 2ms/step - loss: 14.2443 - val_loss: 12.9646\n",
            "Epoch 8/50\n",
            "25/25 [==============================] - 0s 2ms/step - loss: 11.9870 - val_loss: 10.8143\n",
            "Epoch 9/50\n",
            "25/25 [==============================] - 0s 3ms/step - loss: 9.9819 - val_loss: 8.9161\n",
            "Epoch 10/50\n",
            "25/25 [==============================] - 0s 3ms/step - loss: 8.1853 - val_loss: 7.2390\n",
            "Epoch 11/50\n",
            "25/25 [==============================] - 0s 6ms/step - loss: 6.6565 - val_loss: 5.8140\n",
            "Epoch 12/50\n",
            "25/25 [==============================] - 0s 5ms/step - loss: 5.2741 - val_loss: 4.5346\n",
            "Epoch 13/50\n",
            "25/25 [==============================] - 0s 5ms/step - loss: 4.0978 - val_loss: 3.4923\n",
            "Epoch 14/50\n",
            "25/25 [==============================] - 0s 4ms/step - loss: 3.1431 - val_loss: 2.6438\n",
            "Epoch 15/50\n",
            "25/25 [==============================] - 0s 6ms/step - loss: 2.3687 - val_loss: 1.9956\n",
            "Epoch 16/50\n",
            "25/25 [==============================] - 0s 6ms/step - loss: 1.7998 - val_loss: 1.5522\n",
            "Epoch 17/50\n",
            "25/25 [==============================] - 0s 5ms/step - loss: 1.4038 - val_loss: 1.2813\n",
            "Epoch 18/50\n",
            "25/25 [==============================] - 0s 7ms/step - loss: 1.1875 - val_loss: 1.1618\n",
            "Epoch 19/50\n",
            "25/25 [==============================] - 0s 5ms/step - loss: 1.0939 - val_loss: 1.1292\n",
            "Epoch 20/50\n",
            "25/25 [==============================] - 0s 6ms/step - loss: 1.0697 - val_loss: 1.1299\n",
            "Epoch 21/50\n",
            "25/25 [==============================] - 0s 6ms/step - loss: 1.0662 - val_loss: 1.1304\n",
            "Epoch 22/50\n",
            "25/25 [==============================] - 0s 5ms/step - loss: 1.0653 - val_loss: 1.1294\n",
            "Epoch 23/50\n",
            "25/25 [==============================] - 0s 5ms/step - loss: 1.0654 - val_loss: 1.1315\n",
            "Epoch 24/50\n",
            "25/25 [==============================] - 0s 4ms/step - loss: 1.0656 - val_loss: 1.1276\n",
            "Epoch 25/50\n",
            "25/25 [==============================] - 0s 6ms/step - loss: 1.0667 - val_loss: 1.1292\n",
            "Epoch 26/50\n",
            "25/25 [==============================] - 0s 9ms/step - loss: 1.0645 - val_loss: 1.1303\n",
            "Epoch 27/50\n",
            "25/25 [==============================] - 0s 4ms/step - loss: 1.0662 - val_loss: 1.1283\n",
            "Epoch 28/50\n",
            "25/25 [==============================] - 0s 7ms/step - loss: 1.0655 - val_loss: 1.1302\n",
            "Epoch 29/50\n",
            "25/25 [==============================] - 0s 6ms/step - loss: 1.0658 - val_loss: 1.1319\n",
            "Epoch 30/50\n",
            "25/25 [==============================] - 0s 4ms/step - loss: 1.0657 - val_loss: 1.1282\n",
            "Epoch 31/50\n",
            "25/25 [==============================] - 0s 4ms/step - loss: 1.0658 - val_loss: 1.1301\n",
            "Epoch 32/50\n",
            "25/25 [==============================] - 0s 4ms/step - loss: 1.0661 - val_loss: 1.1275\n",
            "Epoch 33/50\n",
            "25/25 [==============================] - 0s 4ms/step - loss: 1.0656 - val_loss: 1.1303\n",
            "Epoch 34/50\n",
            "25/25 [==============================] - 0s 4ms/step - loss: 1.0654 - val_loss: 1.1308\n",
            "Epoch 35/50\n",
            "25/25 [==============================] - 0s 4ms/step - loss: 1.0656 - val_loss: 1.1275\n",
            "Epoch 36/50\n",
            "25/25 [==============================] - 0s 4ms/step - loss: 1.0663 - val_loss: 1.1282\n",
            "Epoch 37/50\n",
            "25/25 [==============================] - 0s 7ms/step - loss: 1.0666 - val_loss: 1.1293\n",
            "Epoch 38/50\n",
            "25/25 [==============================] - 0s 5ms/step - loss: 1.0652 - val_loss: 1.1307\n",
            "Epoch 39/50\n",
            "25/25 [==============================] - 0s 5ms/step - loss: 1.0666 - val_loss: 1.1288\n",
            "Epoch 40/50\n",
            "25/25 [==============================] - 0s 4ms/step - loss: 1.0653 - val_loss: 1.1287\n",
            "Epoch 41/50\n",
            "25/25 [==============================] - 0s 4ms/step - loss: 1.0655 - val_loss: 1.1292\n",
            "Epoch 42/50\n",
            "25/25 [==============================] - 0s 5ms/step - loss: 1.0649 - val_loss: 1.1307\n",
            "Epoch 43/50\n",
            "25/25 [==============================] - 0s 6ms/step - loss: 1.0661 - val_loss: 1.1296\n",
            "Epoch 44/50\n",
            "25/25 [==============================] - 0s 7ms/step - loss: 1.0646 - val_loss: 1.1315\n",
            "Epoch 45/50\n",
            "25/25 [==============================] - 0s 5ms/step - loss: 1.0648 - val_loss: 1.1296\n",
            "Epoch 46/50\n",
            "25/25 [==============================] - 0s 9ms/step - loss: 1.0652 - val_loss: 1.1289\n",
            "Epoch 47/50\n",
            "25/25 [==============================] - 0s 8ms/step - loss: 1.0645 - val_loss: 1.1295\n",
            "Epoch 48/50\n",
            "25/25 [==============================] - 0s 5ms/step - loss: 1.0654 - val_loss: 1.1300\n",
            "Epoch 49/50\n",
            "25/25 [==============================] - 0s 4ms/step - loss: 1.0668 - val_loss: 1.1297\n",
            "Epoch 50/50\n",
            "25/25 [==============================] - 0s 5ms/step - loss: 1.0655 - val_loss: 1.1302\n"
          ]
        },
        {
          "output_type": "execute_result",
          "data": {
            "text/plain": [
              "[<matplotlib.lines.Line2D at 0x7f52aa2c89d0>]"
            ]
          },
          "metadata": {},
          "execution_count": 9
        },
        {
          "output_type": "display_data",
          "data": {
            "text/plain": [
              "<Figure size 432x288 with 1 Axes>"
            ],
            "image/png": "[encoded data removed]"
          },
          "metadata": {
            "needs_background": "light"
          }
        }
      ],
      "source": [
        "history = model.fit(X,y,epochs=50, validation_split=0.2)\n",
        "hist = history.history\n",
        "plt.plot(hist['loss'])\n",
        "plt.plot(hist['val_loss'])"
      ]
    },
    {
      "cell_type": "markdown",
      "metadata": {
        "id": "Sr5Kwuhh_2U_"
      },
      "source": [
        "## 모델이 어떻게 예측했나"
      ]
    },
    {
      "cell_type": "code",
      "execution_count": 10,
      "metadata": {
        "colab": {
          "base_uri": "https://localhost:8080/",
          "height": 282
        },
        "id": "bVEB3mdH_2U_",
        "outputId": "0970467c-bf33-40f4-a3e5-b2118c7af509"
      },
      "outputs": [
        {
          "output_type": "execute_result",
          "data": {
            "text/plain": [
              "<matplotlib.collections.PathCollection at 0x7f52a7a6e290>"
            ]
          },
          "metadata": {},
          "execution_count": 10
        },
        {
          "output_type": "display_data",
          "data": {
            "text/plain": [
              "<Figure size 432x288 with 1 Axes>"
            ],
            "image/png": "[encoded data removed]"
          },
          "metadata": {
            "needs_background": "light"
          }
        }
      ],
      "source": [
        "pred=model.predict(df['X'])\n",
        "plt.scatter(df['X'],df['y'])\n",
        "plt.scatter(df['X'],pred)\n"
      ]
    },
    {
      "cell_type": "code",
      "execution_count": 11,
      "metadata": {
        "colab": {
          "base_uri": "https://localhost:8080/"
        },
        "id": "HCwnvQwv_2U_",
        "outputId": "cdd8b1e4-ee2a-4c7f-a752-c2b799a55ecb"
      },
      "outputs": [
        {
          "output_type": "execute_result",
          "data": {
            "text/plain": [
              "[array([[-3.3725877]], dtype=float32), array([4.2497444], dtype=float32)]"
            ]
          },
          "metadata": {},
          "execution_count": 11
        }
      ],
      "source": [
        "model.get_weights()"
      ]
    },
    {
      "cell_type": "code",
      "source": [],
      "metadata": {
        "id": "jtlp2EwyOF87"
      },
      "execution_count": 11,
      "outputs": []
    }
  ],
  "metadata": {
    "kernelspec": {
      "display_name": "Python 3",
      "language": "python",
      "name": "python3"
    },
    "language_info": {
      "codemirror_mode": {
        "name": "ipython",
        "version": 3
      },
      "file_extension": ".py",
      "mimetype": "text/x-python",
      "name": "python",
      "nbconvert_exporter": "python",
      "pygments_lexer": "ipython3",
      "version": "3.6.9"
    },
    "colab": {
      "provenance": [],
      "collapsed_sections": []
    }
  },
  "nbformat": 4,
  "nbformat_minor": 0
}