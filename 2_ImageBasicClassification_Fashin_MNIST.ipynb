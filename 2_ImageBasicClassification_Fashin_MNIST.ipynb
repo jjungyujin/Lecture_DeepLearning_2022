{
  "cells": [
    {
      "cell_type": "code",
      "execution_count": 18,
      "metadata": {
        "colab": {
          "base_uri": "https://localhost:8080/"
        },
        "id": "0sATqKw8hMXV",
        "outputId": "20ebb9f2-4182-40d4-a9d4-b9d14172c788"
      },
      "outputs": [
        {
          "name": "stdout",
          "output_type": "stream",
          "text": [
            "2.9.2\n"
          ]
        }
      ],
      "source": [
        "# tensorflow와 tf.keras를 임포트합니다\n",
        "import tensorflow as tf\n",
        "from tensorflow import keras\n",
        "from keras import layers\n",
        "\n",
        "# 헬퍼(helper) 라이브러리를 임포트합니다\n",
        "import numpy as np\n",
        "import pandas as pd\n",
        "import matplotlib.pyplot as plt\n",
        "\n",
        "print(tf.__version__)"
      ]
    },
    {
      "cell_type": "markdown",
      "metadata": {
        "id": "5LGZ7DtghMXY"
      },
      "source": [
        "## Fashin Mnist 불러오기"
      ]
    },
    {
      "cell_type": "code",
      "execution_count": 2,
      "metadata": {
        "colab": {
          "base_uri": "https://localhost:8080/"
        },
        "id": "L8hXqEHzhMXZ",
        "outputId": "11d26609-1b50-4922-feb6-9f2b98c84c48"
      },
      "outputs": [
        {
          "name": "stdout",
          "output_type": "stream",
          "text": [
            "Downloading data from https://storage.googleapis.com/tensorflow/tf-keras-datasets/train-labels-idx1-ubyte.gz\n",
            "29515/29515 [==============================] - 0s 0us/step\n",
            "Downloading data from https://storage.googleapis.com/tensorflow/tf-keras-datasets/train-images-idx3-ubyte.gz\n",
            "26421880/26421880 [==============================] - 0s 0us/step\n",
            "Downloading data from https://storage.googleapis.com/tensorflow/tf-keras-datasets/t10k-labels-idx1-ubyte.gz\n",
            "5148/5148 [==============================] - 0s 0us/step\n",
            "Downloading data from https://storage.googleapis.com/tensorflow/tf-keras-datasets/t10k-images-idx3-ubyte.gz\n",
            "4422102/4422102 [==============================] - 0s 0us/step\n"
          ]
        }
      ],
      "source": [
        "fashion_mnist = keras.datasets.fashion_mnist\n",
        "\n",
        "(train_x, train_y), (test_x, test_y) = fashion_mnist.load_data()"
      ]
    },
    {
      "cell_type": "markdown",
      "metadata": {
        "id": "41BPctx6hMXZ"
      },
      "source": [
        "## 데이터 차원 확인"
      ]
    },
    {
      "cell_type": "code",
      "execution_count": 6,
      "metadata": {
        "colab": {
          "base_uri": "https://localhost:8080/"
        },
        "id": "8iqp-JkGhMXZ",
        "outputId": "7729cb09-9857-4d47-e764-4efdc00d022d"
      },
      "outputs": [
        {
          "name": "stdout",
          "output_type": "stream",
          "text": [
            "(60000, 28, 28)\n",
            "(60000,)\n",
            "(10000, 28, 28)\n",
            "(10000,)\n"
          ]
        }
      ],
      "source": [
        "print(train_x.shape)\n",
        "print(train_y.shape)\n",
        "print(test_x.shape)\n",
        "print(test_y.shape)\n"
      ]
    },
    {
      "cell_type": "markdown",
      "metadata": {
        "id": "ifpwFusIhMXa"
      },
      "source": [
        "## 데이터 정체 확인"
      ]
    },
    {
      "cell_type": "code",
      "execution_count": 9,
      "metadata": {
        "colab": {
          "base_uri": "https://localhost:8080/"
        },
        "id": "9VF-RdXRhMXa",
        "outputId": "902bd279-d4fa-464f-a824-e595e029386b"
      },
      "outputs": [
        {
          "data": {
            "text/plain": [
              "(28, 28)"
            ]
          },
          "execution_count": 9,
          "metadata": {},
          "output_type": "execute_result"
        }
      ],
      "source": [
        "train_x[0].shape #2D scalar data"
      ]
    },
    {
      "cell_type": "code",
      "execution_count": 10,
      "metadata": {
        "colab": {
          "base_uri": "https://localhost:8080/",
          "height": 265
        },
        "id": "N0SoCCLGhMXa",
        "outputId": "a5858b05-fb4b-4d3f-9702-ffb143ac5ab0"
      },
      "outputs": [
        {
          "data": {
            "image/png": "[encoded data removed]",
            "text/plain": [
              "<Figure size 432x288 with 2 Axes>"
            ]
          },
          "metadata": {
            "needs_background": "light"
          },
          "output_type": "display_data"
        }
      ],
      "source": [
        "plt.imshow(train_x[0])\n",
        "plt.colorbar()\n",
        "plt.show()"
      ]
    },
    {
      "cell_type": "code",
      "execution_count": 11,
      "metadata": {
        "colab": {
          "base_uri": "https://localhost:8080/"
        },
        "id": "T_E1bVP9hMXb",
        "outputId": "011dd94e-7b55-4965-f495-6941401bc3b9"
      },
      "outputs": [
        {
          "data": {
            "text/plain": [
              "9"
            ]
          },
          "execution_count": 11,
          "metadata": {},
          "output_type": "execute_result"
        }
      ],
      "source": [
        "train_y[0] "
      ]
    },
    {
      "cell_type": "code",
      "execution_count": 12,
      "metadata": {
        "id": "XEfKwj99hMXb"
      },
      "outputs": [],
      "source": [
        "class_names = ['T-shirt/top', 'Trouser', 'Pullover', 'Dress', 'Coat',\n",
        "               'Sandal', 'Shirt', 'Sneaker', 'Bag', 'Ankle boot']"
      ]
    },
    {
      "cell_type": "markdown",
      "metadata": {
        "id": "8AqtLSCwhMXc"
      },
      "source": [
        "## 데이터 표준화(0~1)"
      ]
    },
    {
      "cell_type": "code",
      "execution_count": 13,
      "metadata": {
        "id": "ZqUvVHfphMXc"
      },
      "outputs": [],
      "source": [
        "train_x=train_x/255.0\n",
        "test_x=test_x/255.0"
      ]
    },
    {
      "cell_type": "markdown",
      "metadata": {
        "id": "4AqEpMUohMXd"
      },
      "source": [
        "## 표준화 후 그림 확인"
      ]
    },
    {
      "cell_type": "code",
      "execution_count": 14,
      "metadata": {
        "colab": {
          "base_uri": "https://localhost:8080/",
          "height": 659
        },
        "id": "xLcCar4WhMXd",
        "outputId": "7e97a30c-f673-432d-ad3b-3698ee5546f2"
      },
      "outputs": [
        {
          "data": {
            "image/png": "[encoded data removed]",
            "text/plain": [
              "<Figure size 720x720 with 25 Axes>"
            ]
          },
          "metadata": {
            "needs_background": "light"
          },
          "output_type": "display_data"
        }
      ],
      "source": [
        "import matplotlib.pyplot as plt\n",
        "\n",
        "fig, axs = plt.subplots(5,5,figsize=(10,10))\n",
        "\n",
        "for i in range(25):\n",
        "    k,j = i//5, i%5    \n",
        "    axs[k,j].imshow(train_x[i])\n",
        "    axs[k,j].set_xlabel(class_names[train_y[i]])\n",
        "\n",
        "fig.tight_layout()"
      ]
    },
    {
      "cell_type": "markdown",
      "metadata": {
        "id": "202fOqvphMXd"
      },
      "source": [
        "## 모델 빌딩 (Fully Connected Neural Network)"
      ]
    },
    {
      "cell_type": "code",
      "execution_count": 15,
      "metadata": {
        "id": "bWw1PXp5hMXd"
      },
      "outputs": [],
      "source": [
        "def build_model():\n",
        "    model = keras.Sequential([\n",
        "        layers.Flatten(input_shape=(28,28)), # 2D scalar를 1차원으로\n",
        "        layers.Dense(128, activation='relu'),\n",
        "        layers.Dense(10, activation='softmax'),\n",
        "        \n",
        "    ])\n",
        "\n",
        "    model.compile(loss='sparse_categorical_crossentropy',optimizer='adam', metrics=['accuracy'])\n",
        "    return model"
      ]
    },
    {
      "cell_type": "code",
      "execution_count": 16,
      "metadata": {
        "id": "zNK93FLjhMXe"
      },
      "outputs": [],
      "source": [
        "model=build_model()"
      ]
    },
    {
      "cell_type": "code",
      "execution_count": 17,
      "metadata": {
        "colab": {
          "base_uri": "https://localhost:8080/"
        },
        "id": "qZwZGzdEhMXe",
        "outputId": "747da550-cae7-4b48-9dfd-c433ca95e380"
      },
      "outputs": [
        {
          "name": "stdout",
          "output_type": "stream",
          "text": [
            "Model: \"sequential\"\n",
            "_________________________________________________________________\n",
            " Layer (type)                Output Shape              Param #   \n",
            "=================================================================\n",
            " flatten (Flatten)           (None, 784)               0         \n",
            "                                                                 \n",
            " dense (Dense)               (None, 128)               100480    \n",
            "                                                                 \n",
            " dense_1 (Dense)             (None, 10)                1290      \n",
            "                                                                 \n",
            "=================================================================\n",
            "Total params: 101,770\n",
            "Trainable params: 101,770\n",
            "Non-trainable params: 0\n",
            "_________________________________________________________________\n"
          ]
        }
      ],
      "source": [
        "model.summary()"
      ]
    },
    {
      "cell_type": "markdown",
      "metadata": {
        "id": "zP7pJk2DhMXe"
      },
      "source": [
        "## 모델 학습"
      ]
    },
    {
      "cell_type": "code",
      "execution_count": 21,
      "metadata": {
        "id": "gyY87-fQmN_l"
      },
      "outputs": [],
      "source": [
        "early_stop = keras.callbacks.EarlyStopping(monitor='val_loss', patience=10)"
      ]
    },
    {
      "cell_type": "code",
      "execution_count": 22,
      "metadata": {
        "colab": {
          "base_uri": "https://localhost:8080/"
        },
        "id": "OxwfAK4-hMXe",
        "outputId": "5b518351-9c48-4160-fcef-322ea38b2b6a"
      },
      "outputs": [
        {
          "name": "stdout",
          "output_type": "stream",
          "text": [
            "Epoch 1/1000\n",
            "750/750 [==============================] - 4s 4ms/step - loss: 0.5389 - accuracy: 0.8132 - val_loss: 0.4169 - val_accuracy: 0.8513\n",
            "Epoch 2/1000\n",
            "750/750 [==============================] - 3s 4ms/step - loss: 0.3958 - accuracy: 0.8575 - val_loss: 0.4061 - val_accuracy: 0.8571\n",
            "Epoch 3/1000\n",
            "750/750 [==============================] - 3s 4ms/step - loss: 0.3559 - accuracy: 0.8722 - val_loss: 0.3797 - val_accuracy: 0.8648\n",
            "Epoch 4/1000\n",
            "750/750 [==============================] - 3s 5ms/step - loss: 0.3311 - accuracy: 0.8801 - val_loss: 0.3424 - val_accuracy: 0.8772\n",
            "Epoch 5/1000\n",
            "750/750 [==============================] - 5s 6ms/step - loss: 0.3111 - accuracy: 0.8861 - val_loss: 0.3494 - val_accuracy: 0.8712\n",
            "Epoch 6/1000\n",
            "750/750 [==============================] - 3s 4ms/step - loss: 0.2963 - accuracy: 0.8915 - val_loss: 0.3463 - val_accuracy: 0.8756\n",
            "Epoch 7/1000\n",
            "750/750 [==============================] - 3s 4ms/step - loss: 0.2840 - accuracy: 0.8963 - val_loss: 0.3241 - val_accuracy: 0.8874\n",
            "Epoch 8/1000\n",
            "750/750 [==============================] - 3s 4ms/step - loss: 0.2730 - accuracy: 0.8987 - val_loss: 0.3245 - val_accuracy: 0.8835\n",
            "Epoch 9/1000\n",
            "750/750 [==============================] - 3s 4ms/step - loss: 0.2611 - accuracy: 0.9029 - val_loss: 0.3356 - val_accuracy: 0.8813\n",
            "Epoch 10/1000\n",
            "750/750 [==============================] - 4s 5ms/step - loss: 0.2543 - accuracy: 0.9072 - val_loss: 0.3170 - val_accuracy: 0.8851\n",
            "Epoch 11/1000\n",
            "750/750 [==============================] - 3s 5ms/step - loss: 0.2459 - accuracy: 0.9100 - val_loss: 0.3330 - val_accuracy: 0.8789\n",
            "Epoch 12/1000\n",
            "750/750 [==============================] - 3s 5ms/step - loss: 0.2371 - accuracy: 0.9123 - val_loss: 0.3170 - val_accuracy: 0.8891\n",
            "Epoch 13/1000\n",
            "750/750 [==============================] - 3s 5ms/step - loss: 0.2289 - accuracy: 0.9151 - val_loss: 0.3296 - val_accuracy: 0.8859\n",
            "Epoch 14/1000\n",
            "750/750 [==============================] - 3s 4ms/step - loss: 0.2211 - accuracy: 0.9171 - val_loss: 0.3171 - val_accuracy: 0.8917\n",
            "Epoch 15/1000\n",
            "750/750 [==============================] - 3s 4ms/step - loss: 0.2134 - accuracy: 0.9215 - val_loss: 0.3120 - val_accuracy: 0.8939\n",
            "Epoch 16/1000\n",
            "750/750 [==============================] - 3s 4ms/step - loss: 0.2098 - accuracy: 0.9222 - val_loss: 0.3192 - val_accuracy: 0.8946\n",
            "Epoch 17/1000\n",
            "750/750 [==============================] - 4s 6ms/step - loss: 0.2027 - accuracy: 0.9255 - val_loss: 0.3153 - val_accuracy: 0.8938\n",
            "Epoch 18/1000\n",
            "750/750 [==============================] - 3s 4ms/step - loss: 0.1966 - accuracy: 0.9273 - val_loss: 0.3189 - val_accuracy: 0.8953\n",
            "Epoch 19/1000\n",
            "750/750 [==============================] - 3s 4ms/step - loss: 0.1929 - accuracy: 0.9281 - val_loss: 0.3292 - val_accuracy: 0.8882\n",
            "Epoch 20/1000\n",
            "750/750 [==============================] - 3s 4ms/step - loss: 0.1862 - accuracy: 0.9315 - val_loss: 0.3265 - val_accuracy: 0.8902\n",
            "Epoch 21/1000\n",
            "750/750 [==============================] - 3s 4ms/step - loss: 0.1797 - accuracy: 0.9333 - val_loss: 0.3290 - val_accuracy: 0.8938\n",
            "Epoch 22/1000\n",
            "750/750 [==============================] - 3s 4ms/step - loss: 0.1771 - accuracy: 0.9343 - val_loss: 0.3347 - val_accuracy: 0.8914\n",
            "Epoch 23/1000\n",
            "750/750 [==============================] - 3s 4ms/step - loss: 0.1721 - accuracy: 0.9362 - val_loss: 0.3204 - val_accuracy: 0.8950\n",
            "Epoch 24/1000\n",
            "750/750 [==============================] - 3s 4ms/step - loss: 0.1703 - accuracy: 0.9353 - val_loss: 0.3342 - val_accuracy: 0.8938\n",
            "Epoch 25/1000\n",
            "750/750 [==============================] - 3s 4ms/step - loss: 0.1664 - accuracy: 0.9393 - val_loss: 0.3422 - val_accuracy: 0.8903\n"
          ]
        }
      ],
      "source": [
        "history = model.fit(train_x, train_y, epochs=1000, validation_split = 0.2, batch_size=64,\n",
        "                    callbacks=[early_stop])"
      ]
    },
    {
      "cell_type": "markdown",
      "metadata": {
        "id": "CyqJImnqhMXe"
      },
      "source": [
        "## 테스팅 데이터로 확인"
      ]
    },
    {
      "cell_type": "code",
      "execution_count": 23,
      "metadata": {
        "colab": {
          "base_uri": "https://localhost:8080/"
        },
        "id": "VLkeZO3QnXMk",
        "outputId": "86dbe677-2998-43f4-ba89-788086a5bf14"
      },
      "outputs": [
        {
          "name": "stdout",
          "output_type": "stream",
          "text": [
            "313/313 [==============================] - 1s 2ms/step - loss: 0.3825 - accuracy: 0.8792\n"
          ]
        },
        {
          "data": {
            "text/plain": [
              "[0.3824830949306488, 0.8791999816894531]"
            ]
          },
          "execution_count": 23,
          "metadata": {},
          "output_type": "execute_result"
        }
      ],
      "source": [
        "model.evaluate(test_x, test_y)"
      ]
    },
    {
      "cell_type": "markdown",
      "metadata": {
        "id": "Kwn59xyqhMXf"
      },
      "source": [
        "## 예측된 데이터 분석"
      ]
    },
    {
      "cell_type": "code",
      "execution_count": 24,
      "metadata": {
        "colab": {
          "base_uri": "https://localhost:8080/"
        },
        "id": "v-jf0deNn4gY",
        "outputId": "5ca5a5af-a6db-4f0a-d569-159c747a60f0"
      },
      "outputs": [
        {
          "name": "stdout",
          "output_type": "stream",
          "text": [
            "313/313 [==============================] - 1s 3ms/step\n"
          ]
        },
        {
          "data": {
            "text/plain": [
              "array([9.2480956e-09, 1.1864057e-08, 1.3849849e-07, 8.0467899e-08,\n",
              "       1.6650293e-09, 8.2997733e-04, 2.0070208e-07, 4.7503421e-03,\n",
              "       8.5576801e-08, 9.9441916e-01], dtype=float32)"
            ]
          },
          "execution_count": 24,
          "metadata": {},
          "output_type": "execute_result"
        }
      ],
      "source": [
        "model.predict(test_x)[0] # 0~9 사이의 카테고리에 들어갈 확률\n"
      ]
    },
    {
      "cell_type": "code",
      "execution_count": 25,
      "metadata": {
        "colab": {
          "base_uri": "https://localhost:8080/",
          "height": 301
        },
        "id": "PS9zK-Q4oC03",
        "outputId": "fc3d8810-f93e-4e9c-8d13-a0356ae89f9e"
      },
      "outputs": [
        {
          "name": "stdout",
          "output_type": "stream",
          "text": [
            "313/313 [==============================] - 1s 4ms/step\n"
          ]
        },
        {
          "data": {
            "text/plain": [
              "<BarContainer object of 10 artists>"
            ]
          },
          "execution_count": 25,
          "metadata": {},
          "output_type": "execute_result"
        },
        {
          "data": {
            "image/png": "[encoded data removed]",
            "text/plain": [
              "<Figure size 432x288 with 1 Axes>"
            ]
          },
          "metadata": {
            "needs_background": "light"
          },
          "output_type": "display_data"
        }
      ],
      "source": [
        "plt.bar(class_names, model.predict(test_x)[0])"
      ]
    },
    {
      "cell_type": "code",
      "execution_count": 26,
      "metadata": {
        "colab": {
          "base_uri": "https://localhost:8080/",
          "height": 283
        },
        "id": "fJH6vAm_oNDP",
        "outputId": "e2543ce2-1443-47c4-f342-dc4836b62066"
      },
      "outputs": [
        {
          "data": {
            "text/plain": [
              "<matplotlib.image.AxesImage at 0x7f8f86e98550>"
            ]
          },
          "execution_count": 26,
          "metadata": {},
          "output_type": "execute_result"
        },
        {
          "data": {
            "image/png": "[encoded data removed]",
            "text/plain": [
              "<Figure size 432x288 with 1 Axes>"
            ]
          },
          "metadata": {
            "needs_background": "light"
          },
          "output_type": "display_data"
        }
      ],
      "source": [
        "plt.imshow(test_x[0])"
      ]
    },
    {
      "cell_type": "markdown",
      "metadata": {
        "id": "CWlOIwCDhMXf"
      },
      "source": [
        "## 못맞춘 데이터 분석"
      ]
    },
    {
      "cell_type": "code",
      "execution_count": 29,
      "metadata": {
        "colab": {
          "base_uri": "https://localhost:8080/"
        },
        "id": "29KbpTMfonJ7",
        "outputId": "7a1d7f3a-180f-4e49-817e-84f2f24caa24"
      },
      "outputs": [
        {
          "name": "stdout",
          "output_type": "stream",
          "text": [
            "313/313 [==============================] - 1s 2ms/step\n"
          ]
        }
      ],
      "source": [
        "# argmax : 각 데이터마다 최대값 index 반환 = 모형이 예측한 카테고리 의미\n",
        "pred = model.predict(test_x).argmax(axis=1)"
      ]
    },
    {
      "cell_type": "code",
      "execution_count": 30,
      "metadata": {
        "colab": {
          "base_uri": "https://localhost:8080/"
        },
        "id": "TjQKral_hMXf",
        "outputId": "db790b7e-dcf9-44a9-9516-e704d35a9acb"
      },
      "outputs": [
        {
          "data": {
            "text/plain": [
              "(array([  12,   17,   23, ..., 9961, 9972, 9977]),)"
            ]
          },
          "execution_count": 30,
          "metadata": {},
          "output_type": "execute_result"
        }
      ],
      "source": [
        "np.where(test_y!=pred)"
      ]
    },
    {
      "cell_type": "code",
      "execution_count": 31,
      "metadata": {
        "colab": {
          "base_uri": "https://localhost:8080/",
          "height": 283
        },
        "id": "wXu2PDGLp9pM",
        "outputId": "8426d3df-67fa-4f35-cef3-024b19506d12"
      },
      "outputs": [
        {
          "data": {
            "text/plain": [
              "<matplotlib.image.AxesImage at 0x7f8f7a5ef4d0>"
            ]
          },
          "execution_count": 31,
          "metadata": {},
          "output_type": "execute_result"
        },
        {
          "data": {
            "image/png": "[encoded data removed]",
            "text/plain": [
              "<Figure size 432x288 with 1 Axes>"
            ]
          },
          "metadata": {
            "needs_background": "light"
          },
          "output_type": "display_data"
        }
      ],
      "source": [
        "plt.imshow(test_x[12])"
      ]
    },
    {
      "cell_type": "code",
      "execution_count": 33,
      "metadata": {
        "colab": {
          "base_uri": "https://localhost:8080/",
          "height": 301
        },
        "id": "fHtEJWcIqDB1",
        "outputId": "ce7c441b-da28-4789-915d-6e9e4594f801"
      },
      "outputs": [
        {
          "name": "stdout",
          "output_type": "stream",
          "text": [
            "313/313 [==============================] - 1s 2ms/step\n"
          ]
        },
        {
          "data": {
            "text/plain": [
              "<BarContainer object of 10 artists>"
            ]
          },
          "execution_count": 33,
          "metadata": {},
          "output_type": "execute_result"
        },
        {
          "data": {
            "image/png": "[encoded data removed]",
            "text/plain": [
              "<Figure size 432x288 with 1 Axes>"
            ]
          },
          "metadata": {
            "needs_background": "light"
          },
          "output_type": "display_data"
        }
      ],
      "source": [
        "plt.bar(class_names, model.predict(test_x)[12])"
      ]
    }
  ],
  "metadata": {
    "colab": {
      "collapsed_sections": [],
      "provenance": []
    },
    "kernelspec": {
      "display_name": "Python 3 (ipykernel)",
      "language": "python",
      "name": "python3"
    },
    "language_info": {
      "codemirror_mode": {
        "name": "ipython",
        "version": 3
      },
      "file_extension": ".py",
      "mimetype": "text/x-python",
      "name": "python",
      "nbconvert_exporter": "python",
      "pygments_lexer": "ipython3",
      "version": "3.8.10"
    },
    "toc": {
      "base_numbering": 1,
      "nav_menu": {},
      "number_sections": false,
      "sideBar": true,
      "skip_h1_title": false,
      "title_cell": "Table of Contents",
      "title_sidebar": "Contents",
      "toc_cell": false,
      "toc_position": {},
      "toc_section_display": true,
      "toc_window_display": false
    }
  },
  "nbformat": 4,
  "nbformat_minor": 0
}
